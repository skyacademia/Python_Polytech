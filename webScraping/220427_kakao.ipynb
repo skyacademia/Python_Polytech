{
 "cells": [
  {
   "cell_type": "code",
   "execution_count": 6,
   "metadata": {},
   "outputs": [
    {
     "name": "stdout",
     "output_type": "stream",
     "text": [
      "{'access_token': 'k_kfq7nWfZPt8pOCFBYFaMVHnTGL6PFQB2GvswopcBQAAAGAaPEazg', 'token_type': 'bearer', 'refresh_token': 'pbmWOgNARRdf78U60-tU8omHakof8_tTHa1OsQopcBQAAAGAaPEazQ', 'expires_in': 21599, 'scope': 'account_email profile_image talk_message profile_nickname', 'refresh_token_expires_in': 5183999}\n"
     ]
    }
   ],
   "source": [
    "import requests,json\n",
    "\n",
    "url = \"https://kauth.kakao.com/oauth/token\"\n",
    "\n",
    "data={\"grant_type\":\"authorization_code\", \"client_id\":\"a1d0272c22893537afb8754e8c60924d\",\"redirect_uri\":\"https://localhost.com\",\n",
    "\"code\":\"A3WHJ2Vg2VSIPld6VBH2rfGlu6UHGnFZHZ0Z3ToHSUGyu3ap-Ztj1h1gP_J4Q6N_ziEaHgorDKcAAAGAaO-P2g\"}\n",
    "\n",
    "response = requests.post(url,data=data)\n",
    "if response.status_code != 200: # 실패\n",
    "    print(\"에러 발생했습니다. 이유 : \",response.json())\n",
    "else: # 성공\n",
    "    token = response.json()\n",
    "    print(token)\n",
    "\n",
    "KAKAO_TOKEN_FILENAME = \"C:/Users/super/Desktop/2B_donghoon/2_Python/class/3_pandas_webscraping/kakao/kakao_token.json\"\n",
    "\n",
    "def save_tokens(filename, tokens):\n",
    "    with open(filename, \"w\") as fp:\n",
    "        json.dump(tokens,fp)\n",
    "save_tokens(KAKAO_TOKEN_FILENAME, token)"
   ]
  },
  {
   "cell_type": "code",
   "execution_count": 26,
   "metadata": {},
   "outputs": [],
   "source": [
    "# # token 저장\n",
    "# import requests\n",
    "# import json\n",
    "# import datetime\n",
    "# import os\n",
    "\n",
    "# KAKAO_TOKEN_FILENAME = \"C:/Users/super/Desktop/2B_donghoon/2_Python/class/3_pandas_webscraping/kakao/kakao_token.json\"\n",
    "\n",
    "# def save_tokens(filename, tokens):\n",
    "#     with open(filename, \"w\") as fp:\n",
    "#         json.dump(tokens,fp)\n",
    "\n",
    "# def load_tokens(filename):\n",
    "#     with open(filename) as fp:\n",
    "#         tokens=json.load(fp)\n",
    "#     return tokens\n",
    "\n",
    "# def update_tokens(app_key,filename):\n",
    "#     tokens=load_tokens(filename)\n",
    "\n",
    "#     url = \"https://kauth.kakao.com/oauth/token\"\n",
    "#     data={\n",
    "#         \"grant_type\":\"refresh_token\", \"client_id\":app_key, \"refresh_token\" : tokens['refresh_token']\n",
    "#     }\n",
    "#     response = requests.post(url,data=data)\n",
    "\n",
    "#     if response.status_code != 200:\n",
    "#         print(\"에러발생! 이유 : \", response.json())\n",
    "#         tokens=None\n",
    "#     else:\n",
    "#         print(response.json())\n",
    "#         now = datetime.datetime.now().strftime(\"%Y%m%d_%H%M%S\")\n",
    "#         backup_filename = filename+\".\"+now\n",
    "#         os.rename(filename, backup_filename)\n",
    "#         tokens['access_token'] = response.json()['access_token']\n",
    "#         save_tokens(filename,tokens)\n",
    "#     return tokens\n",
    "\n",
    "# # save_tokens(KAKAO_TOKEN_FILENAME,tokens)\n",
    "\n",
    "# KAKAO_APP_KEY = \"a1d0272c22893537afb8754e8c60924d\"\n",
    "# tokens=update_tokens(KAKAO_APP_KEY, KAKAO_TOKEN_FILENAME)\n",
    "# save_tokens(KAKAO_TOKEN_FILENAME,tokens)\n"
   ]
  },
  {
   "cell_type": "code",
   "execution_count": 7,
   "metadata": {},
   "outputs": [
    {
     "name": "stdout",
     "output_type": "stream",
     "text": [
      "200\n",
      "메시지를 성공적을 보냈습니다.\n"
     ]
    }
   ],
   "source": [
    "token\n",
    "with open(KAKAO_TOKEN_FILENAME) as fp:\n",
    "    token=json.load(fp)\n",
    "\n",
    "url = \"https://kapi.kakao.com/vs/api/talk/memo/default/send\"\n",
    "\n",
    "headers = {\"Authorization\":\"Bearer\"+token['access_token']}\n",
    "data = {\"template_object\":json.dumps({\"object_type\":\"text\",\"text\":\"Hello,World!\",\"link\":{\n",
    "    \"web_url\":\"www.naver.com\"\n",
    "}})}\n",
    "response = requests.post(url,headers=headers,data=data)\n",
    "print(response.status_code)\n",
    "if response.status_code != 200:\n",
    "    print(\"error beacuase : \",response.json())\n",
    "else :\n",
    "    print(\"메시지를 성공적을 보냈습니다.\")"
   ]
  }
 ],
 "metadata": {
  "interpreter": {
   "hash": "bdd6452835a1642e2d58e70cd39963fdd7c788606328ae08c41b50372f3c6a18"
  },
  "kernelspec": {
   "display_name": "Python 3.10.2 64-bit",
   "language": "python",
   "name": "python3"
  },
  "language_info": {
   "codemirror_mode": {
    "name": "ipython",
    "version": 3
   },
   "file_extension": ".py",
   "mimetype": "text/x-python",
   "name": "python",
   "nbconvert_exporter": "python",
   "pygments_lexer": "ipython3",
   "version": "3.10.2"
  },
  "orig_nbformat": 4
 },
 "nbformat": 4,
 "nbformat_minor": 2
}
