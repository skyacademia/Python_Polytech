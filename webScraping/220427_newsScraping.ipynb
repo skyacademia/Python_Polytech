{
 "cells": [
  {
   "cell_type": "code",
   "execution_count": 24,
   "metadata": {},
   "outputs": [],
   "source": [
    "# c\n",
    "# code = V7Fa12phG5-KBB7MTF1k_rmhf1vlh4HTARNmlgrCmASrnNJQHY-3xhxVXKZgSzzZzggIjAopcJ4AAAGAaKG4lg"
   ]
  },
  {
   "cell_type": "code",
   "execution_count": 25,
   "metadata": {},
   "outputs": [
    {
     "name": "stdout",
     "output_type": "stream",
     "text": [
      "에러 발생했습니다. 이유 :  {'error': 'invalid_grant', 'error_description': 'authorization code not found for code=nmzbACDe05K6lTHqN8DvRRe3pLUOcOpSc5wn4VlEwo5y8WhcTsf637oP-_45hgQ1IRz-pwo9c5sAAAGAaK6DyQ', 'error_code': 'KOE320'}\n"
     ]
    }
   ],
   "source": [
    "import requests,json\n",
    "\n",
    "url = \"https://kauth.kakao.com/oauth/token\"\n",
    "\n",
    "data={\"grant_type\":\"authorization_code\", \"client_id\":\"a1d0272c22893537afb8754e8c60924d\",\"redirect_uri\":\"https://localhost.com\",\n",
    "\"code\":\"nmzbACDe05K6lTHqN8DvRRe3pLUOcOpSc5wn4VlEwo5y8WhcTsf637oP-_45hgQ1IRz-pwo9c5sAAAGAaK6DyQ\"}\n",
    "\n",
    "response = requests.post(url,data=data)\n",
    "if response.status_code != 200: # 실패\n",
    "    print(\"에러 발생했습니다. 이유 : \",response.json())\n",
    "else: # 성공\n",
    "    token = response.json()\n",
    "    print(token)\n",
    "\n",
    "KAKAO_TOKEN_FILENAME = \"C:/Users/super/Desktop/2B_donghoon/2_Python/class/3_pandas_webscraping/kakao/kakao_token.json\"\n",
    "\n",
    "def save_tokens(filename, tokens):\n",
    "    with open(filename, \"w\") as fp:\n",
    "        json.dump(tokens,fp)\n",
    "save_tokens(KAKAO_TOKEN_FILENAME, token)"
   ]
  },
  {
   "cell_type": "code",
   "execution_count": 26,
   "metadata": {},
   "outputs": [],
   "source": [
    "# # token 저장\n",
    "# import requests\n",
    "# import json\n",
    "# import datetime\n",
    "# import os\n",
    "\n",
    "# KAKAO_TOKEN_FILENAME = \"C:/Users/super/Desktop/2B_donghoon/2_Python/class/3_pandas_webscraping/kakao/kakao_token.json\"\n",
    "\n",
    "# def save_tokens(filename, tokens):\n",
    "#     with open(filename, \"w\") as fp:\n",
    "#         json.dump(tokens,fp)\n",
    "\n",
    "# def load_tokens(filename):\n",
    "#     with open(filename) as fp:\n",
    "#         tokens=json.load(fp)\n",
    "#     return tokens\n",
    "\n",
    "# def update_tokens(app_key,filename):\n",
    "#     tokens=load_tokens(filename)\n",
    "\n",
    "#     url = \"https://kauth.kakao.com/oauth/token\"\n",
    "#     data={\n",
    "#         \"grant_type\":\"refresh_token\", \"client_id\":app_key, \"refresh_token\" : tokens['refresh_token']\n",
    "#     }\n",
    "#     response = requests.post(url,data=data)\n",
    "\n",
    "#     if response.status_code != 200:\n",
    "#         print(\"에러발생! 이유 : \", response.json())\n",
    "#         tokens=None\n",
    "#     else:\n",
    "#         print(response.json())\n",
    "#         now = datetime.datetime.now().strftime(\"%Y%m%d_%H%M%S\")\n",
    "#         backup_filename = filename+\".\"+now\n",
    "#         os.rename(filename, backup_filename)\n",
    "#         tokens['access_token'] = response.json()['access_token']\n",
    "#         save_tokens(filename,tokens)\n",
    "#     return tokens\n",
    "\n",
    "# # save_tokens(KAKAO_TOKEN_FILENAME,tokens)\n",
    "\n",
    "# KAKAO_APP_KEY = \"a1d0272c22893537afb8754e8c60924d\"\n",
    "# tokens=update_tokens(KAKAO_APP_KEY, KAKAO_TOKEN_FILENAME)\n",
    "# save_tokens(KAKAO_TOKEN_FILENAME,tokens)\n"
   ]
  },
  {
   "cell_type": "code",
   "execution_count": 27,
   "metadata": {},
   "outputs": [
    {
     "name": "stdout",
     "output_type": "stream",
     "text": [
      "secction url :  https://news.naver.com/main/main.naver?mode=LSD&mid=shm&sid1=100\n",
      "{'title': '강병원 “한덕수, 김앤장서 20억 받았는데 자료제출은 A4지 한장 반”', 'news_url': 'https://n.news.naver.com/mnews/article/005/0001521680?sid=100', 'image_url': 'https://imgnews.pstatic.net/image/origin/005/2022/04/26/1521680.jpg?type=ofullfill132_90'}\n"
     ]
    }
   ],
   "source": [
    "import requests\n",
    "from bs4 import BeautifulSoup\n",
    "import bs4.element\n",
    "import datetime\n",
    "import lxml\n",
    "url = \"https://news.naver.com/main/main.naver?mode=LSD&mid=shm&sid1=100\"\n",
    "header = {\"User-Agent\":\"Mozilla/5.0 (Windows NT 10.0; Win64; x64) AppleWebKit/537.36 (KHTML, like Gecko) Chrome/100.0.4896.127 Safari/537.36\"}\n",
    "res = requests.get(url,headers=header)\n",
    "res.raise_for_status()\n",
    "soup = BeautifulSoup(res.text,\"lxml\")\n",
    "print(\"secction url : \",url)\n",
    "lists=soup.find(\"li\",attrs={\"class\":\"cluster_item\"}) \n",
    "news_info = {\n",
    "    \"title\": lists.find(\"a\",attrs={\"class\":\"cluster_text_headline nclicks(cls_pol.clsart)\"}).get_text(),\n",
    "    \"news_url\": lists.find(\"a\",attrs={\"class\":\"cluster_text_headline nclicks(cls_pol.clsart)\"})[\"href\"],\n",
    "    \"image_url\": lists.find(\"img\")[\"src\"]\n",
    "}\n",
    "print(news_info)"
   ]
  },
  {
   "cell_type": "code",
   "execution_count": 53,
   "metadata": {},
   "outputs": [
    {
     "name": "stdout",
     "output_type": "stream",
     "text": [
      "{'title': ' \"국회가 해야 할 몫과 당선인 몫은 달라...국민 말씀 경청\"[현장영상+]', 'news_url': 'https://n.news.naver.com/mnews/article/052/0001732006?sid=100', 'image_url': 'https://imgnews.pstatic.net/image/origin/052/2022/04/27/1732006.jpg?type=ofullfill132_90'}\n",
      "{'title': '尹측 “검수완박, 서두르지 말고 국민 원하는 답 도출해야”(종합)', 'news_url': 'https://n.news.naver.com/mnews/article/018/0005201262?sid=100', 'image_url': 'https://imgnews.pstatic.net/image/origin/018/2022/04/27/5201262.jpg?type=ofullfill132_90'}\n",
      "{'title': '권성동 \"민주, 민심 역주행 멈춰야\" 검수완박 \\'단독처리\\' 비판', 'news_url': 'https://n.news.naver.com/mnews/article/015/0004690946?sid=100', 'image_url': 'https://imgnews.pstatic.net/image/origin/015/2022/04/27/4690946.jpg?type=ofullfill132_90'}\n",
      "{'title': \"삼성證, 미국주식 혁신 시리즈 2탄…10호가 서비스 '국내최초 오픈'\", 'news_url': 'https://n.news.naver.com/mnews/article/031/0000668930?sid=101', 'image_url': 'https://imgnews.pstatic.net/image/origin/031/2022/04/27/668930.jpg?type=nf132_90'}\n",
      "{'title': 'SK하이닉스 \"2020년 생산한 일부 D램서 품질저하…교환 진행\"', 'news_url': 'https://n.news.naver.com/mnews/article/008/0004738286?sid=101', 'image_url': 'https://imgnews.pstatic.net/image/origin/008/2022/04/27/4738286.jpg?type=nf132_90'}\n",
      "{'title': '경기둔화 우려 뒤늦게 반영…나스닥 -3.95% 폭락 [데일리 국제금융시장]', 'news_url': 'https://n.news.naver.com/mnews/article/011/0004047021?sid=101', 'image_url': 'https://imgnews.pstatic.net/image/origin/011/2022/04/27/4047021.jpg?type=nf132_90'}\n",
      "{'title': '‘제39회 부산국제단편영화제’, 막 오르다! … 유네스코 영화창의도시 부산, 본격 영화제 시즌 시작', 'news_url': 'https://n.news.naver.com/mnews/article/277/0005080482?sid=102', 'image_url': 'https://imgnews.pstatic.net/image/origin/277/2022/04/27/5080482.jpg?type=nf132_90'}\n",
      "{'title': '부산 사상구 화학공장서 불…직원 2명 중상', 'news_url': 'https://n.news.naver.com/mnews/article/082/0001152895?sid=102', 'image_url': 'https://imgnews.pstatic.net/image/origin/082/2022/04/27/1152895.jpg?type=nf132_90'}\n",
      "{'title': \"'코로나19 사태' 2년간 신체활동 줄고 우울감은 늘었다\", 'news_url': 'https://n.news.naver.com/mnews/article/079/0003636778?sid=102', 'image_url': 'https://imgnews.pstatic.net/image/origin/079/2022/04/27/3636778.jpg?type=nf132_90'}\n"
     ]
    }
   ],
   "source": [
    "import requests\n",
    "from bs4 import BeautifulSoup\n",
    "import bs4.element\n",
    "import datetime\n",
    "import lxml\n",
    "\n",
    "id = [100,101,102]\n",
    "category = [\"pol\",\"eco\",\"nav\"]\n",
    "for id, category in zip(id,category) :\n",
    "    url = \"https://news.naver.com/main/main.naver?mode=LSD&mid=shm&sid1=\"+str(id)\n",
    "    header = {\"User-Agent\":\"Mozilla/5.0 (Windows NT 10.0; Win64; x64) AppleWebKit/537.36 (KHTML, like Gecko) Chrome/100.0.4896.127 Safari/537.36\"}\n",
    "    res = requests.get(url,headers=header)\n",
    "    res.raise_for_status()\n",
    "    soup = BeautifulSoup(res.text,\"lxml\")\n",
    "    lists=soup.find_all(\"div\",attrs={\"class\":\"cluster_group _cluster_content\"}, limit=3)\n",
    "    i = 0\n",
    "    for list in lists : \n",
    "        one_article = list.find(\"li\",attrs={\"class\":\"cluster_item\"})\n",
    "        news_info = {\n",
    "            \"title\": one_article.find(\"a\",attrs=\"cluster_text_headline nclicks(cls_\"+category+\".clsart)\").get_text(),\n",
    "            \"news_url\": one_article.find(\"a\",attrs=\"cluster_text_headline nclicks(cls_\"+category+\".clsart)\")[\"href\"]                \n",
    "        }\n",
    "        if one_article.find(\"img\")[\"src\"] != None:\n",
    "            news_info[\"image_url\"] = one_article.find(\"img\")[\"src\"]\n",
    "        else :\n",
    "            news_info[\"image_url\"] = \"<이미지 없음>\"\n",
    "        print(news_info)\n",
    "        # news_url = news_info[\"news_url\"]\n",
    "        # res = requests.get(news_url,headers=header)\n",
    "        # res.raise_for_status()\n",
    "        # soup = BeautifulSoup(res.text,\"lxml\")\n",
    "        # text=soup.find(\"div\",attrs={\"id\":\"dic_area\"})\n",
    "        # print(text.get_text())\n"
   ]
  },
  {
   "cell_type": "code",
   "execution_count": 49,
   "metadata": {},
   "outputs": [
    {
     "ename": "TypeError",
     "evalue": "summarize() missing 1 required positional argument: 'text'",
     "output_type": "error",
     "traceback": [
      "\u001b[1;31m---------------------------------------------------------------------------\u001b[0m",
      "\u001b[1;31mTypeError\u001b[0m                                 Traceback (most recent call last)",
      "\u001b[1;32mc:\\Users\\super\\Desktop\\2B_donghoon\\2_Python\\class\\3_pandas_webscraping\\220427_movieScraping.ipynb Cell 6'\u001b[0m in \u001b[0;36m<cell line: 2>\u001b[1;34m()\u001b[0m\n\u001b[0;32m      <a href='vscode-notebook-cell:/c%3A/Users/super/Desktop/2B_donghoon/2_Python/class/3_pandas_webscraping/220427_movieScraping.ipynb#ch0000006?line=0'>1</a>\u001b[0m \u001b[39mfrom\u001b[39;00m \u001b[39msumma\u001b[39;00m\u001b[39m.\u001b[39;00m\u001b[39msummarizer\u001b[39;00m \u001b[39mimport\u001b[39;00m summarize\n\u001b[1;32m----> <a href='vscode-notebook-cell:/c%3A/Users/super/Desktop/2B_donghoon/2_Python/class/3_pandas_webscraping/220427_movieScraping.ipynb#ch0000006?line=1'>2</a>\u001b[0m summarize()\n",
      "\u001b[1;31mTypeError\u001b[0m: summarize() missing 1 required positional argument: 'text'"
     ]
    }
   ],
   "source": []
  }
 ],
 "metadata": {
  "interpreter": {
   "hash": "bdd6452835a1642e2d58e70cd39963fdd7c788606328ae08c41b50372f3c6a18"
  },
  "kernelspec": {
   "display_name": "Python 3.10.2 64-bit",
   "language": "python",
   "name": "python3"
  },
  "language_info": {
   "codemirror_mode": {
    "name": "ipython",
    "version": 3
   },
   "file_extension": ".py",
   "mimetype": "text/x-python",
   "name": "python",
   "nbconvert_exporter": "python",
   "pygments_lexer": "ipython3",
   "version": "3.10.2"
  },
  "orig_nbformat": 4
 },
 "nbformat": 4,
 "nbformat_minor": 2
}
